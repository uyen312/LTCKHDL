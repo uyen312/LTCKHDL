{
 "cells": [
  {
   "cell_type": "markdown",
   "metadata": {},
   "source": [
    "# REFERENCES\n",
    "---"
   ]
  },
  {
   "cell_type": "markdown",
   "metadata": {},
   "source": [
    "[Thư viện matplotlib](https://matplotlib.org/stable/)\n",
    "\n",
    "[Thư viện seaborn](https://seaborn.pydata.org/tutorial.html)\n",
    "\n",
    "[Thư viện numpy](https://numpy.org/doc/stable/reference/)\n",
    "\n",
    "[Thư viện pandas](https://pandas.pydata.org/docs/reference/index.html#api)\n",
    "\n",
    "[Mô hình RandomForestRegressor](https://scikit-learn.org/1.5/modules/generated/sklearn.ensemble.RandomForestRegressor.html)\n",
    "\n",
    "[Chia dữ liệu cho mô hình trong Sklearn](https://scikit-learn.org/stable/modules/generated/sklearn.model_selection.train_test_split.html)"
   ]
  }
 ],
 "metadata": {
  "language_info": {
   "name": "python"
  }
 },
 "nbformat": 4,
 "nbformat_minor": 2
}
