{
 "cells": [
  {
   "cell_type": "markdown",
   "metadata": {},
   "source": [
    "# REFERENCES\n",
    "---"
   ]
  },
  {
   "cell_type": "markdown",
   "metadata": {},
   "source": [
    "[Thư viện matplotlib](https://matplotlib.org/stable/)\n",
    "\n",
    "[Thư viện seaborn](https://seaborn.pydata.org/tutorial.html)\n",
    "\n",
    "[Thư viện numpy](https://numpy.org/doc/stable/reference/)\n",
    "\n",
    "[Thư viện pandas](https://pandas.pydata.org/docs/reference/index.html#api)\n"
   ]
  }
 ],
 "metadata": {
  "language_info": {
   "name": "python"
  }
 },
 "nbformat": 4,
 "nbformat_minor": 2
}
