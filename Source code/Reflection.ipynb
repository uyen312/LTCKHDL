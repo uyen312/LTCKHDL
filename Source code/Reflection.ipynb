{
 "cells": [
  {
   "cell_type": "markdown",
   "metadata": {},
   "source": [
    "# REFLECTION\n",
    "---"
   ]
  },
  {
   "cell_type": "markdown",
   "metadata": {},
   "source": [
    "Khó khăn gặp phải:\n",
    "- Đường Tuấn Khanh:\n",
    "\n",
    "- Dương Ngọc Kiều Trinh:\n",
    "\n",
    "    - Thiếu kinh nghiệm trong việc đặt câu hỏi, câu từ có thể có phần rời rạc\n",
    "\n",
    "    - Gặp một số khó khăn trong việc thực hiện các thao tác trên Git\n",
    "\n",
    "    - Đôi khi gặp chút rắc rối về câu lệnh Python do chưa thật sự ghi nhớ cú pháp đúng của các thư viện khác nhau\n",
    "\n",
    "- Nguyễn Phạm Tú Uyên:\n"
   ]
  },
  {
   "cell_type": "markdown",
   "metadata": {},
   "source": [
    "Học được:\n",
    "- Đường Tuấn Khanh:\n",
    "\n",
    "- Dương Ngọc Kiều Trinh:\n",
    "\n",
    "    - Kỹ năng làm việc nhóm sử dụng Git và Github\n",
    "\n",
    "    - Kỹ năng đặt câu hỏi theo nhiều góc nhìn khác nhau để có thể khám phá dữ liệu sâu sắc hơn\n",
    "\n",
    "    - Biết chọn biểu đồ phù hợp dựa trên ý nghĩa của nó để trực quan hóa cho câu hỏi cần giải đáp\n",
    "\n",
    "- Nguyễn Phạm Tú Uyên:\n"
   ]
  },
  {
   "cell_type": "markdown",
   "metadata": {},
   "source": [
    "Sẽ làm nếu có thêm nhiều thời gian:"
   ]
  }
 ],
 "metadata": {
  "language_info": {
   "name": "python"
  }
 },
 "nbformat": 4,
 "nbformat_minor": 2
}
