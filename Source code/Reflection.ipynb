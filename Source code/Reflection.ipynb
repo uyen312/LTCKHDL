{
 "cells": [
  {
   "cell_type": "markdown",
   "metadata": {},
   "source": [
    "# REFLECTION\n",
    "---"
   ]
  },
  {
   "cell_type": "markdown",
   "metadata": {},
   "source": [
    "Khó khăn gặp phải:\n",
    "- Đường Tuấn Khanh:\n",
    "\n",
    "    - Thiếu kinh nghiệm trong việc phân tích và khai thác dữ liệu thô: Dẫn đến khó khăn trong việc xử lý và mất nhiều thời gian để hiểu rõ bản chất của dữ liệu.\n",
    "\n",
    "    - Lựa chọn biểu đồ trực quan hóa phù hợp: Đôi lúc khó xác định được biểu đồ nào phản ánh tốt nhất mối quan hệ trong dữ liệu, gây mất thời gian thử nghiệm.\n",
    "\n",
    "    - Gặp một số khó khăn trong việc thực hiện các thao tác trên Git\n",
    "\n",
    "- Dương Ngọc Kiều Trinh:\n",
    "\n",
    "    - Thiếu kinh nghiệm trong việc đặt câu hỏi, câu từ có thể có phần rời rạc\n",
    "\n",
    "    - Gặp một số khó khăn trong việc thực hiện các thao tác trên Git\n",
    "\n",
    "    - Đôi khi gặp chút rắc rối về câu lệnh Python do chưa thật sự ghi nhớ cú pháp đúng của các thư viện khác nhau\n",
    "\n",
    "- Nguyễn Phạm Tú Uyên:\n",
    "    - Gặp một số khó khăn trong việc thao tác trên Git, đặc biệt khi xử lý xung đột\n",
    "\n",
    "    - Thiếu kinh nghiệm trong kỹ năng truyền đạt, giải thích kết quả phân tích một cách đơn giản và dễ hiểu.\n",
    "    \n",
    "    - Gặp khó khăn trong việc chọn biểu đồ, mô hình phù hợp với câu hỏi."
   ]
  },
  {
   "cell_type": "markdown",
   "metadata": {},
   "source": [
    "Học được:\n",
    "- Đường Tuấn Khanh:\n",
    "\n",
    "    - Nâng cao kỹ năng làm sạch và phân tích dữ liệu: Biết cách áp dụng các công cụ và thư viện Python để tối ưu hóa quy trình làm việc với dữ liệu.\n",
    "\n",
    "    - Kỹ năng diễn đạt trực quan: Biết lựa chọn cách trình bày dễ hiểu, hiệu quả bằng biểu đồ và các công cụ trực quan hóa phù hợp với từng câu hỏi.\n",
    "    \n",
    "    - Kỹ năng làm việc nhóm sử dụng Git và Github\n",
    "\n",
    "- Dương Ngọc Kiều Trinh:\n",
    "\n",
    "    - Kỹ năng làm việc nhóm sử dụng Git và Github\n",
    "\n",
    "    - Kỹ năng đặt câu hỏi theo nhiều góc nhìn khác nhau để có thể khám phá dữ liệu sâu sắc hơn\n",
    "\n",
    "    - Biết chọn biểu đồ phù hợp dựa trên ý nghĩa của nó để trực quan hóa cho câu hỏi cần giải đáp\n",
    "\n",
    "- Nguyễn Phạm Tú Uyên:\n",
    "    - Học được kỹ năng làm việc nhóm thông qua Git và Github\n",
    "\n",
    "    - Nâng cao kỹ năng diễn đạt súc tích, rõ ràng, giúp báo cáo dễ hiểu hơn.\n",
    "\n",
    "    - Biết cách chọn biểu đồ phù hợp, đảm bảo trực quan hóa chính xác và đúng mục đích."
   ]
  },
  {
   "cell_type": "markdown",
   "metadata": {},
   "source": [
    "Sẽ làm nếu có thêm nhiều thời gian:\n",
    "\n",
    "- Tìm và thu thập dữ liệu thực tế, ví dụ như tiến hành khảo sát, giúp cho kết quả càng chính xác và rõ ràng hơn.\n",
    "\n",
    "- Thực hiện các phân tích chuyên sâu hơn, kiểm tra thêm các yếu tố có ảnh hưởng mà báo cáo hiện tại chưa đề cập."
   ]
  }
 ],
 "metadata": {
  "language_info": {
   "name": "python"
  }
 },
 "nbformat": 4,
 "nbformat_minor": 2
}
