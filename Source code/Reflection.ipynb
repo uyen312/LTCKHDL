{
 "cells": [
  {
   "cell_type": "markdown",
   "metadata": {},
   "source": [
    "# REFLECTION\n",
    "---"
   ]
  },
  {
   "cell_type": "markdown",
   "metadata": {},
   "source": [
    "Khó khăn gặp phải:\n",
    "- Đường Tuấn Khanh:\n",
    "\n",
    "- Dương Ngọc Kiều Trinh:\n",
    "\n",
    "- Nguyễn Phạm Tú Uyên:\n"
   ]
  },
  {
   "cell_type": "markdown",
   "metadata": {},
   "source": [
    "Học được:\n",
    "- Đường Tuấn Khanh:\n",
    "\n",
    "- Dương Ngọc Kiều Trinh:\n",
    "\n",
    "- Nguyễn Phạm Tú Uyên:\n"
   ]
  },
  {
   "cell_type": "markdown",
   "metadata": {},
   "source": [
    "Sẽ làm nếu có thêm nhiều thời gian:"
   ]
  }
 ],
 "metadata": {
  "language_info": {
   "name": "python"
  }
 },
 "nbformat": 4,
 "nbformat_minor": 2
}
