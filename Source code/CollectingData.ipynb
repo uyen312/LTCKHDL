{
 "cells": [
  {
   "cell_type": "markdown",
   "metadata": {},
   "source": [
    "# ĐỒ ÁN CUỐI KỲ LẬP TRÌNH CHO KHOA HỌC DỮ LIỆU"
   ]
  },
  {
   "cell_type": "markdown",
   "metadata": {},
   "source": [
    "### Thông tin thành viên\n",
    "\n",
    "| MSSV| Họ và tên|\n",
    "|-|-|\n",
    "| 22120155| Đường Tuấn Khanh|\n",
    "| 22120389| Dương Ngọc Kiều Trinh|\n",
    "| 22120422| Nguyễn Phạm Tú Uyên|"
   ]
  },
  {
   "cell_type": "markdown",
   "metadata": {},
   "source": [
    "## Thu thập dữ liệu - Collecting Data\n",
    "---"
   ]
  },
  {
   "cell_type": "markdown",
   "metadata": {},
   "source": [
    "#### Chủ đề và nguồn của bộ dữ liệu\n",
    "- Chủ đề: Ảnh hưởng của mạng xã hội đối với quản lý thời gian và năng suất người dùng. \n",
    "\n",
    "    Bộ dữ liệu này nghiên cứu về cách người dùng tương tác với các nền tảng truyền thông xã hội và tác động của chúng đến việc quản lý thời gian, năng suất cá nhân, cũng như các hành vi sử dụng truyền thông xã hội.\n",
    "\n",
    "- Nguồn Kaggle - [Social Media Menace](https://www.kaggle.com/datasets/zeesolver/dark-web)"
   ]
  },
  {
   "cell_type": "markdown",
   "metadata": {},
   "source": [
    "#### Tác giả có cho phép sử dụng dữ liệu như vậy không?\n",
    "- Giấy phép: Attribution-NonCommercial 4.0 International (CC BY-NC 4.0)\n",
    "\n",
    "- Giấy phép này giúp bảo vệ quyền lợi của tác giả và đảm bảo rằng sản phẩm của không được sử dụng vì mục đích lợi nhuận mà không có sự cho phép, đồng thời cho phép cộng đồng sử dụng và chia sẻ tài liệu miễn phí trong các mục đích nghiên cứu, học thuật, hoặc cá nhân."
   ]
  },
  {
   "cell_type": "markdown",
   "metadata": {},
   "source": [
    "#### Các tác giả thu thập dữ liệu như thế nào?\n",
    "Bộ dữ liệu này được tạo ra bằng cách sử dụng NumPy và Pandas, mô phỏng các mô hình sử dụng mạng xã hội trong thế giới thực cho mục đích nghiên cứu và phân tích thông qua các kỹ thuật tạo dữ liệu giả lập.\n"
   ]
  }
 ],
 "metadata": {
  "language_info": {
   "name": "python"
  }
 },
 "nbformat": 4,
 "nbformat_minor": 2
}
