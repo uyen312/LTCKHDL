{
 "cells": [
  {
   "cell_type": "markdown",
   "metadata": {},
   "source": [
    "# EXPLORING DATA\n",
    "---"
   ]
  },
  {
   "cell_type": "markdown",
   "metadata": {},
   "source": [
    "Nhiệm vụ của phần này là làm sạch và phân tích dữ liệu đã được thu thập"
   ]
  },
  {
   "cell_type": "markdown",
   "metadata": {},
   "source": [
    "## IMPORT"
   ]
  },
  {
   "cell_type": "code",
   "execution_count": 1,
   "metadata": {},
   "outputs": [],
   "source": [
    "import pandas as pd\n",
    "import matplotlib.pyplot as plt\n",
    "import seaborn as sns"
   ]
  },
  {
   "cell_type": "markdown",
   "metadata": {},
   "source": [
    "## Đọc dữ liệu"
   ]
  },
  {
   "cell_type": "code",
   "execution_count": 2,
   "metadata": {},
   "outputs": [],
   "source": [
    "data = pd.read_csv('../Data/Time-Wasters on Social Media.csv')"
   ]
  },
  {
   "cell_type": "code",
   "execution_count": 3,
   "metadata": {},
   "outputs": [
    {
     "data": {
      "text/html": [
       "<div>\n",
       "<style scoped>\n",
       "    .dataframe tbody tr th:only-of-type {\n",
       "        vertical-align: middle;\n",
       "    }\n",
       "\n",
       "    .dataframe tbody tr th {\n",
       "        vertical-align: top;\n",
       "    }\n",
       "\n",
       "    .dataframe thead th {\n",
       "        text-align: right;\n",
       "    }\n",
       "</style>\n",
       "<table border=\"1\" class=\"dataframe\">\n",
       "  <thead>\n",
       "    <tr style=\"text-align: right;\">\n",
       "      <th></th>\n",
       "      <th>UserID</th>\n",
       "      <th>Age</th>\n",
       "      <th>Gender</th>\n",
       "      <th>Location</th>\n",
       "      <th>Income</th>\n",
       "      <th>Debt</th>\n",
       "      <th>Owns Property</th>\n",
       "      <th>Profession</th>\n",
       "      <th>Demographics</th>\n",
       "      <th>Platform</th>\n",
       "      <th>...</th>\n",
       "      <th>ProductivityLoss</th>\n",
       "      <th>Satisfaction</th>\n",
       "      <th>Watch Reason</th>\n",
       "      <th>DeviceType</th>\n",
       "      <th>OS</th>\n",
       "      <th>Watch Time</th>\n",
       "      <th>Self Control</th>\n",
       "      <th>Addiction Level</th>\n",
       "      <th>CurrentActivity</th>\n",
       "      <th>ConnectionType</th>\n",
       "    </tr>\n",
       "  </thead>\n",
       "  <tbody>\n",
       "    <tr>\n",
       "      <th>0</th>\n",
       "      <td>1</td>\n",
       "      <td>56</td>\n",
       "      <td>Male</td>\n",
       "      <td>Pakistan</td>\n",
       "      <td>82812</td>\n",
       "      <td>True</td>\n",
       "      <td>True</td>\n",
       "      <td>Engineer</td>\n",
       "      <td>Rural</td>\n",
       "      <td>Instagram</td>\n",
       "      <td>...</td>\n",
       "      <td>3</td>\n",
       "      <td>7</td>\n",
       "      <td>Procrastination</td>\n",
       "      <td>Smartphone</td>\n",
       "      <td>Android</td>\n",
       "      <td>9:00 PM</td>\n",
       "      <td>5</td>\n",
       "      <td>5</td>\n",
       "      <td>Commuting</td>\n",
       "      <td>Mobile Data</td>\n",
       "    </tr>\n",
       "    <tr>\n",
       "      <th>1</th>\n",
       "      <td>2</td>\n",
       "      <td>46</td>\n",
       "      <td>Female</td>\n",
       "      <td>Mexico</td>\n",
       "      <td>27999</td>\n",
       "      <td>False</td>\n",
       "      <td>True</td>\n",
       "      <td>Artist</td>\n",
       "      <td>Urban</td>\n",
       "      <td>Instagram</td>\n",
       "      <td>...</td>\n",
       "      <td>5</td>\n",
       "      <td>5</td>\n",
       "      <td>Habit</td>\n",
       "      <td>Computer</td>\n",
       "      <td>Android</td>\n",
       "      <td>5:00 PM</td>\n",
       "      <td>7</td>\n",
       "      <td>3</td>\n",
       "      <td>At school</td>\n",
       "      <td>Wi-Fi</td>\n",
       "    </tr>\n",
       "    <tr>\n",
       "      <th>2</th>\n",
       "      <td>3</td>\n",
       "      <td>32</td>\n",
       "      <td>Female</td>\n",
       "      <td>United States</td>\n",
       "      <td>42436</td>\n",
       "      <td>False</td>\n",
       "      <td>True</td>\n",
       "      <td>Engineer</td>\n",
       "      <td>Rural</td>\n",
       "      <td>Facebook</td>\n",
       "      <td>...</td>\n",
       "      <td>6</td>\n",
       "      <td>4</td>\n",
       "      <td>Entertainment</td>\n",
       "      <td>Tablet</td>\n",
       "      <td>Android</td>\n",
       "      <td>2:00 PM</td>\n",
       "      <td>8</td>\n",
       "      <td>2</td>\n",
       "      <td>At home</td>\n",
       "      <td>Mobile Data</td>\n",
       "    </tr>\n",
       "    <tr>\n",
       "      <th>3</th>\n",
       "      <td>4</td>\n",
       "      <td>60</td>\n",
       "      <td>Male</td>\n",
       "      <td>Barzil</td>\n",
       "      <td>62963</td>\n",
       "      <td>True</td>\n",
       "      <td>False</td>\n",
       "      <td>Waiting staff</td>\n",
       "      <td>Rural</td>\n",
       "      <td>YouTube</td>\n",
       "      <td>...</td>\n",
       "      <td>3</td>\n",
       "      <td>7</td>\n",
       "      <td>Habit</td>\n",
       "      <td>Smartphone</td>\n",
       "      <td>Android</td>\n",
       "      <td>9:00 PM</td>\n",
       "      <td>5</td>\n",
       "      <td>5</td>\n",
       "      <td>Commuting</td>\n",
       "      <td>Mobile Data</td>\n",
       "    </tr>\n",
       "    <tr>\n",
       "      <th>4</th>\n",
       "      <td>5</td>\n",
       "      <td>25</td>\n",
       "      <td>Male</td>\n",
       "      <td>Pakistan</td>\n",
       "      <td>22096</td>\n",
       "      <td>False</td>\n",
       "      <td>True</td>\n",
       "      <td>Manager</td>\n",
       "      <td>Urban</td>\n",
       "      <td>TikTok</td>\n",
       "      <td>...</td>\n",
       "      <td>8</td>\n",
       "      <td>2</td>\n",
       "      <td>Boredom</td>\n",
       "      <td>Smartphone</td>\n",
       "      <td>iOS</td>\n",
       "      <td>8:00 AM</td>\n",
       "      <td>10</td>\n",
       "      <td>0</td>\n",
       "      <td>At home</td>\n",
       "      <td>Mobile Data</td>\n",
       "    </tr>\n",
       "  </tbody>\n",
       "</table>\n",
       "<p>5 rows × 31 columns</p>\n",
       "</div>"
      ],
      "text/plain": [
       "   UserID  Age  Gender       Location  Income   Debt  Owns Property  \\\n",
       "0       1   56    Male       Pakistan   82812   True           True   \n",
       "1       2   46  Female         Mexico   27999  False           True   \n",
       "2       3   32  Female  United States   42436  False           True   \n",
       "3       4   60    Male         Barzil   62963   True          False   \n",
       "4       5   25    Male       Pakistan   22096  False           True   \n",
       "\n",
       "      Profession Demographics   Platform  ...  ProductivityLoss  Satisfaction  \\\n",
       "0       Engineer        Rural  Instagram  ...                 3             7   \n",
       "1         Artist        Urban  Instagram  ...                 5             5   \n",
       "2       Engineer        Rural   Facebook  ...                 6             4   \n",
       "3  Waiting staff        Rural    YouTube  ...                 3             7   \n",
       "4        Manager        Urban     TikTok  ...                 8             2   \n",
       "\n",
       "      Watch Reason  DeviceType       OS  Watch Time  Self Control  \\\n",
       "0  Procrastination  Smartphone  Android     9:00 PM             5   \n",
       "1            Habit    Computer  Android     5:00 PM             7   \n",
       "2    Entertainment      Tablet  Android     2:00 PM             8   \n",
       "3            Habit  Smartphone  Android     9:00 PM             5   \n",
       "4          Boredom  Smartphone      iOS     8:00 AM            10   \n",
       "\n",
       "   Addiction Level  CurrentActivity  ConnectionType  \n",
       "0                5        Commuting     Mobile Data  \n",
       "1                3        At school           Wi-Fi  \n",
       "2                2          At home     Mobile Data  \n",
       "3                5        Commuting     Mobile Data  \n",
       "4                0          At home     Mobile Data  \n",
       "\n",
       "[5 rows x 31 columns]"
      ]
     },
     "execution_count": 3,
     "metadata": {},
     "output_type": "execute_result"
    }
   ],
   "source": [
    "data.head()"
   ]
  },
  {
   "cell_type": "markdown",
   "metadata": {},
   "source": [
    "## LÀM SẠCH VÀ PHÂN TÍCH DỮ LIỆU"
   ]
  },
  {
   "cell_type": "markdown",
   "metadata": {},
   "source": [
    "### 1. Dữ liệu có bao nhiêu dòng, cột"
   ]
  },
  {
   "cell_type": "code",
   "execution_count": 4,
   "metadata": {},
   "outputs": [
    {
     "data": {
      "text/plain": [
       "(1000, 31)"
      ]
     },
     "execution_count": 4,
     "metadata": {},
     "output_type": "execute_result"
    }
   ],
   "source": [
    "data.shape"
   ]
  },
  {
   "cell_type": "markdown",
   "metadata": {},
   "source": [
    "### 2. Thông tin về các dòng dữ liệu"
   ]
  },
  {
   "cell_type": "markdown",
   "metadata": {},
   "source": [
    "#### 2.1. Ý nghĩa từng dòng dữ liệu"
   ]
  },
  {
   "cell_type": "markdown",
   "metadata": {},
   "source": [
    "- Mỗi dòng là đại diện cho thông tin tổng hợp về một người dùng trong một ngày bao gồm thông tin, hành vi sử dụng và tác động tâm lý.\n",
    "\n",
    "- Không có dòng nào có ý nghĩa khác với các dòng còn lại."
   ]
  },
  {
   "cell_type": "markdown",
   "metadata": {},
   "source": [
    "#### 2.2. Kiểm tra các dòng dữ liệu trùng lặp"
   ]
  },
  {
   "cell_type": "code",
   "execution_count": 5,
   "metadata": {},
   "outputs": [
    {
     "data": {
      "text/plain": [
       "0"
      ]
     },
     "execution_count": 5,
     "metadata": {},
     "output_type": "execute_result"
    }
   ],
   "source": [
    "n_duplicate = data.duplicated().sum()\n",
    "n_duplicate"
   ]
  },
  {
   "cell_type": "markdown",
   "metadata": {},
   "source": [
    "Dữ liệu không có các dòng trùng lặp"
   ]
  },
  {
   "cell_type": "markdown",
   "metadata": {},
   "source": [
    "### 3. Thông tin về các cột dữ liệu\n",
    "Dữ liệu có các cột sau"
   ]
  },
  {
   "cell_type": "code",
   "execution_count": 6,
   "metadata": {},
   "outputs": [
    {
     "data": {
      "text/plain": [
       "Index(['UserID', 'Age', 'Gender', 'Location', 'Income', 'Debt',\n",
       "       'Owns Property', 'Profession', 'Demographics', 'Platform',\n",
       "       'Total Time Spent', 'Number of Sessions', 'Video ID', 'Video Category',\n",
       "       'Video Length', 'Engagement', 'Importance Score', 'Time Spent On Video',\n",
       "       'Number of Videos Watched', 'Scroll Rate', 'Frequency',\n",
       "       'ProductivityLoss', 'Satisfaction', 'Watch Reason', 'DeviceType', 'OS',\n",
       "       'Watch Time', 'Self Control', 'Addiction Level', 'CurrentActivity',\n",
       "       'ConnectionType'],\n",
       "      dtype='object')"
      ]
     },
     "execution_count": 6,
     "metadata": {},
     "output_type": "execute_result"
    }
   ],
   "source": [
    "data.columns"
   ]
  },
  {
   "cell_type": "markdown",
   "metadata": {},
   "source": [
    "#### 3.1. Ý nghĩa của các cột dữ liệu"
   ]
  },
  {
   "cell_type": "markdown",
   "metadata": {},
   "source": [
    "Mỗi cột có ý nghĩa sau: \n",
    "|Tên cột|Ý nghĩa|\n",
    "|-------|-------|\n",
    "| UserID| Mã định danh duy nhất của người dùng|\n",
    "| Age| Tuổi của người dùng|\n",
    "| Gender| Giới tính của người dùng (nam, nữ, không xác định giới tính)|\n",
    "| Location| Vị trí địa lý của người dùng (quốc gia)|\n",
    "| Income| Thu nhập của người dùng|\n",
    "| Debt| Người dùng có đang nợ hay không|\n",
    "| Owns Property| Người dùng có sở hữu bất động sản hay không|\n",
    "| Profession| Nghề nghiệp của người dùng|\n",
    "| Demographics| Nhân khẩu học (nông thôn, thành thị)|\n",
    "| Platform| Nền tảng mà người dùng truy cập|\n",
    "| Total Time Spent| Tổng thời gian người dùng đã dành trên nên tảng (phút)|\n",
    "| Number of Sessions| Số lần người dùng truy cập vào nền tảng|\n",
    "| Video ID| Mã định danh của video được xem|\n",
    "| Video Category| Thể loại của video|\n",
    "| Video Length| Thời lượng của video|\n",
    "| Engagement| Mức độ tương tác của người dùng với video (thích, bình luận, chia sẻ)|\n",
    "| Importance Score| Điểm đánh giá tầm quan trọng của video đối với người dùng|\n",
    "| Time Spent On Video| Thời gian người dùng dành để xem một video cụ thể|\n",
    "| Number of Videos Watched| Số lượng video người dùng đã xem|\n",
    "| Scroll Rate| Tỷ lệ người dùng cuộn qua nội dung|\n",
    "| Frequency| Tần suất người dùng tương tác với nền tảng|\n",
    "| ProductivityLoss| Tác động của việc sử dụng nền tảng đến năng suất của người dùng|\n",
    "| Satisfaction| Mức độ hài lòng của người dùng|\n",
    "| Watch Reason| Lý do người dùng xem video|\n",
    "| DeviceType| Loại thiết bị mà người dùng sử dụng|\n",
    "| OS| Hệ điều hành trên thiết bị của người dùng|\n",
    "| Watch Time| Thời trong ngày mà người dùng xem video|\n",
    "| Self Control| Mức độ kiểm soát việc sử dụng nền tảng của người dùng|\n",
    "| Addiction Level| Mức độ nghiện của người dùng vào nền tảng|\n",
    "| CurrentActivity| Người dùng đang làm gì khi xem video|\n",
    "| ConnectionType| Loại kết nối mạng của người dùng|"
   ]
  },
  {
   "cell_type": "markdown",
   "metadata": {},
   "source": [
    "Chủ đề đã chọn là: Phân tích thói quen sử dụng thời gian trên mạng xã hội và tác động của nó đến đời sống cá nhân, từ đó rút ra các tác động tiêu cực hoặc tích cực đối với con người.\n",
    "\n",
    "Lọc ra các cột không liên quan trực tiếp đến chủ đề để tập trung vào các đặc trưng chính, giúp dữ liệu trở nên cô đọng và phù hợp hơn cho phân tích.\n",
    "\n",
    "Các cột bị loại bỏ là: **UserID, Location, Debt, Owns Property, Demographics, Video ID, Video Length, Engagement, Scroll Rate, Device Type, OS, Watch Time, Connection Type**."
   ]
  },
  {
   "cell_type": "code",
   "execution_count": 7,
   "metadata": {},
   "outputs": [],
   "source": [
    "# Liệt kê các cột cần loại bỏ\n",
    "columns_to_drop = ['UserID', 'Location', 'Debt', 'Owns Property', \n",
    "                   'Demographics', 'Video ID', 'Video Length', 'Engagement', \n",
    "                   'Scroll Rate', 'DeviceType', 'OS', 'Watch Time', 'ConnectionType']\n",
    "\n",
    "# Bỏ các cột không cần thiết\n",
    "data = data.drop(columns=columns_to_drop)"
   ]
  },
  {
   "cell_type": "markdown",
   "metadata": {},
   "source": [
    "#### 3.2. Kiểm tra kiểu dữ liệu của mỗi cột\n",
    "Kiểu dữ liệu hiện tại của các cột"
   ]
  },
  {
   "cell_type": "code",
   "execution_count": 8,
   "metadata": {},
   "outputs": [
    {
     "data": {
      "text/plain": [
       "Age                          int64\n",
       "Gender                      object\n",
       "Income                       int64\n",
       "Profession                  object\n",
       "Platform                    object\n",
       "Total Time Spent             int64\n",
       "Number of Sessions           int64\n",
       "Video Category              object\n",
       "Importance Score             int64\n",
       "Time Spent On Video          int64\n",
       "Number of Videos Watched     int64\n",
       "Frequency                   object\n",
       "ProductivityLoss             int64\n",
       "Satisfaction                 int64\n",
       "Watch Reason                object\n",
       "Self Control                 int64\n",
       "Addiction Level              int64\n",
       "CurrentActivity             object\n",
       "dtype: object"
      ]
     },
     "execution_count": 8,
     "metadata": {},
     "output_type": "execute_result"
    }
   ],
   "source": [
    "data.dtypes"
   ]
  },
  {
   "cell_type": "markdown",
   "metadata": {},
   "source": [
    "Có một số cột dữ liệu chưa được xác định với các kiểu dữ liệu phù hợp.\n",
    "\n",
    "- Cột **Gender** sẽ được tách thành 2 cột **Female** và **Male** với kiểu dữ liệu boolean.\n",
    "\n",
    "- Đổi các cột **Platform, Video Category, Frequency, Watch Reason, CurrentActivity** thành kiểu dữ liệu Category.\n",
    "\n",
    "- Đổi cột **Age** thành kiểu dữ liệu Category với các nhóm tuổi khác nhau."
   ]
  },
  {
   "cell_type": "code",
   "execution_count": 9,
   "metadata": {},
   "outputs": [],
   "source": [
    "# Gender\n",
    "data['Female'] = data['Gender'] == 'Female'\n",
    "data['Male'] = data['Gender'] == 'Male'\n",
    "data = data.drop('Gender', axis = 1)\n",
    "\n",
    "# Platform, Video Category, Frequency, Watch Reason, CurrentActivity\n",
    "data['Platform'] = data['Platform'].astype('category')\n",
    "data['Video Category'] = data['Video Category'].astype('category')\n",
    "data['Frequency'] = data['Frequency'].astype('category')\n",
    "data['Watch Reason'] = data['Watch Reason'].astype('category')\n",
    "data['CurrentActivity'] = data['CurrentActivity'].astype('category')\n"
   ]
  },
  {
   "cell_type": "markdown",
   "metadata": {},
   "source": [
    "Chia dữ liệu trong cột Age (18-64) thành các nhóm tuổi như sau:\n",
    "- Thanh niên (Young Adult): 18 - 24 tuổi\n",
    "\n",
    "    Giai đoạn bắt đầu bước vào cuộc sống trưởng thành với nhiều thay đổi lớn về học tập, công việc và quan hệ xã hội, có thể dẫn đến nhiều trạng thái tâm lý khác nhau như lo âu, căng thẳng.\n",
    "\n",
    "- Trưởng thành (Adult): 25 - 44 tuổi\n",
    "\n",
    "    Giai đoạn người trưởng thành đang ổn định về sự nghiệp, hôn nhân và gia đình, nhưng cũng đối mặt với áp lực cuộc sống, công việc, và trách nhiệm.\n",
    "\n",
    "- Trung niên (Middle Age): 45 - 59 tuổi\n",
    "\n",
    "    Giai đoạn này có thể đi kèm với sự căng thẳng, lo âu về sức khỏe và gia đình, đồng thời cũng có nhiều người phải đối mặt với khủng hoảng tuổi trung niên.\n",
    "\n",
    "- Già (Elderly): 60 tuổi trở lên\n",
    "\n",
    "    Đây là giai đoạn nghỉ hưu, với các vấn đề về sức khỏe, cô đơn và những thay đổi tâm lý khác do tuổi tác.\n"
   ]
  },
  {
   "cell_type": "code",
   "execution_count": 10,
   "metadata": {},
   "outputs": [],
   "source": [
    "# Định nghĩa các khoảng tuổi\n",
    "bins = [18, 24, 44, 59, 64]\n",
    "# Đặt nhãn cho các nhóm tuổi\n",
    "labels = ['1', '2', '3', '4']\n",
    "\n",
    "# Phân loại và tạo cột mới Age_type\n",
    "data['Age Group'] = pd.cut(data['Age'], bins=bins, labels=labels, right=True, include_lowest=True)\n",
    "\n",
    "# Xóa cột Age ban đầu\n",
    "data = data.drop('Age', axis=1)\n"
   ]
  },
  {
   "cell_type": "markdown",
   "metadata": {},
   "source": [
    "Kiểm tra lại"
   ]
  },
  {
   "cell_type": "code",
   "execution_count": 11,
   "metadata": {},
   "outputs": [
    {
     "data": {
      "text/plain": [
       "Income                         int64\n",
       "Profession                    object\n",
       "Platform                    category\n",
       "Total Time Spent               int64\n",
       "Number of Sessions             int64\n",
       "Video Category              category\n",
       "Importance Score               int64\n",
       "Time Spent On Video            int64\n",
       "Number of Videos Watched       int64\n",
       "Frequency                   category\n",
       "ProductivityLoss               int64\n",
       "Satisfaction                   int64\n",
       "Watch Reason                category\n",
       "Self Control                   int64\n",
       "Addiction Level                int64\n",
       "CurrentActivity             category\n",
       "Female                          bool\n",
       "Male                            bool\n",
       "Age Group                   category\n",
       "dtype: object"
      ]
     },
     "execution_count": 11,
     "metadata": {},
     "output_type": "execute_result"
    }
   ],
   "source": [
    "data.dtypes"
   ]
  },
  {
   "cell_type": "markdown",
   "metadata": {},
   "source": [
    "Các cột đã có kiểu dữ liệu phù hợp"
   ]
  },
  {
   "cell_type": "markdown",
   "metadata": {},
   "source": [
    "#### 3.3. Sự phân bố dữ liệu của các cột có kiểu định lượng\n",
    "Các cột có dữ liệu định lượng"
   ]
  },
  {
   "cell_type": "code",
   "execution_count": 12,
   "metadata": {},
   "outputs": [
    {
     "name": "stdout",
     "output_type": "stream",
     "text": [
      "Các cột có kiểu dữ liệu định lượng: \n",
      "Income\n",
      "Total Time Spent\n",
      "Number of Sessions\n",
      "Importance Score\n",
      "Time Spent On Video\n",
      "Number of Videos Watched\n",
      "ProductivityLoss\n",
      "Satisfaction\n",
      "Self Control\n",
      "Addiction Level\n"
     ]
    }
   ],
   "source": [
    "numerical_columns = data.select_dtypes(include=['number']).columns.tolist()\n",
    "print('Các cột có kiểu dữ liệu định lượng: ')\n",
    "for col_name in numerical_columns:\n",
    "    print(col_name)"
   ]
  },
  {
   "cell_type": "markdown",
   "metadata": {},
   "source": [
    "##### 3.3.1. Tính toán các giá trị thống kê và xử lý giá trị thiếu"
   ]
  },
  {
   "cell_type": "markdown",
   "metadata": {},
   "source": [
    "Với mỗi cột có kiểu dữ liệu định lượng, thực hiện tính toán các giá trị thống kê cơ bản sau:\n",
    "- Phần trăm (từ 0 đến 100) của giá trị thiếu\n",
    "- Giá trị nhỏ nhất (Min)\n",
    "- Tứ phân vị dưới (Lower quartile)\n",
    "- Trung vị (Median)\n",
    "- Tứ phân vị trên (Upper quartile)\n",
    "- Giá trị lớn nhất (Max)\n",
    "\n",
    "Các giá trị được làm tròn đến chữ số thập phân thứ nhất."
   ]
  },
  {
   "cell_type": "code",
   "execution_count": 13,
   "metadata": {},
   "outputs": [
    {
     "data": {
      "text/html": [
       "<div>\n",
       "<style scoped>\n",
       "    .dataframe tbody tr th:only-of-type {\n",
       "        vertical-align: middle;\n",
       "    }\n",
       "\n",
       "    .dataframe tbody tr th {\n",
       "        vertical-align: top;\n",
       "    }\n",
       "\n",
       "    .dataframe thead th {\n",
       "        text-align: right;\n",
       "    }\n",
       "</style>\n",
       "<table border=\"1\" class=\"dataframe\">\n",
       "  <thead>\n",
       "    <tr style=\"text-align: right;\">\n",
       "      <th></th>\n",
       "      <th>Income</th>\n",
       "      <th>Total Time Spent</th>\n",
       "      <th>Number of Sessions</th>\n",
       "      <th>Importance Score</th>\n",
       "      <th>Time Spent On Video</th>\n",
       "      <th>Number of Videos Watched</th>\n",
       "      <th>ProductivityLoss</th>\n",
       "      <th>Satisfaction</th>\n",
       "      <th>Self Control</th>\n",
       "      <th>Addiction Level</th>\n",
       "    </tr>\n",
       "  </thead>\n",
       "  <tbody>\n",
       "    <tr>\n",
       "      <th>Tỷ lệ giá trị thiếu</th>\n",
       "      <td>0.0</td>\n",
       "      <td>0.0</td>\n",
       "      <td>0.0</td>\n",
       "      <td>0.0</td>\n",
       "      <td>0.0</td>\n",
       "      <td>0.0</td>\n",
       "      <td>0.0</td>\n",
       "      <td>0.0</td>\n",
       "      <td>0.0</td>\n",
       "      <td>0.0</td>\n",
       "    </tr>\n",
       "    <tr>\n",
       "      <th>Giá trị nhỏ nhất</th>\n",
       "      <td>20138.0</td>\n",
       "      <td>10.0</td>\n",
       "      <td>1.0</td>\n",
       "      <td>1.0</td>\n",
       "      <td>1.0</td>\n",
       "      <td>1.0</td>\n",
       "      <td>1.0</td>\n",
       "      <td>1.0</td>\n",
       "      <td>3.0</td>\n",
       "      <td>0.0</td>\n",
       "    </tr>\n",
       "    <tr>\n",
       "      <th>Tứ phân vị dưới</th>\n",
       "      <td>38675.2</td>\n",
       "      <td>78.0</td>\n",
       "      <td>6.0</td>\n",
       "      <td>3.0</td>\n",
       "      <td>8.0</td>\n",
       "      <td>14.0</td>\n",
       "      <td>3.0</td>\n",
       "      <td>4.0</td>\n",
       "      <td>5.0</td>\n",
       "      <td>2.0</td>\n",
       "    </tr>\n",
       "    <tr>\n",
       "      <th>Trung vị</th>\n",
       "      <td>58805.0</td>\n",
       "      <td>152.0</td>\n",
       "      <td>10.0</td>\n",
       "      <td>5.0</td>\n",
       "      <td>15.0</td>\n",
       "      <td>25.0</td>\n",
       "      <td>5.0</td>\n",
       "      <td>5.0</td>\n",
       "      <td>7.0</td>\n",
       "      <td>3.0</td>\n",
       "    </tr>\n",
       "    <tr>\n",
       "      <th>Tứ phân vị trên</th>\n",
       "      <td>79792.2</td>\n",
       "      <td>223.0</td>\n",
       "      <td>15.0</td>\n",
       "      <td>7.0</td>\n",
       "      <td>22.0</td>\n",
       "      <td>37.0</td>\n",
       "      <td>6.0</td>\n",
       "      <td>7.0</td>\n",
       "      <td>8.0</td>\n",
       "      <td>5.0</td>\n",
       "    </tr>\n",
       "    <tr>\n",
       "      <th>Giá trị lớn nhất</th>\n",
       "      <td>99676.0</td>\n",
       "      <td>298.0</td>\n",
       "      <td>19.0</td>\n",
       "      <td>9.0</td>\n",
       "      <td>29.0</td>\n",
       "      <td>49.0</td>\n",
       "      <td>9.0</td>\n",
       "      <td>9.0</td>\n",
       "      <td>10.0</td>\n",
       "      <td>7.0</td>\n",
       "    </tr>\n",
       "  </tbody>\n",
       "</table>\n",
       "</div>"
      ],
      "text/plain": [
       "                      Income  Total Time Spent  Number of Sessions  \\\n",
       "Tỷ lệ giá trị thiếu      0.0               0.0                 0.0   \n",
       "Giá trị nhỏ nhất     20138.0              10.0                 1.0   \n",
       "Tứ phân vị dưới      38675.2              78.0                 6.0   \n",
       "Trung vị             58805.0             152.0                10.0   \n",
       "Tứ phân vị trên      79792.2             223.0                15.0   \n",
       "Giá trị lớn nhất     99676.0             298.0                19.0   \n",
       "\n",
       "                     Importance Score  Time Spent On Video  \\\n",
       "Tỷ lệ giá trị thiếu               0.0                  0.0   \n",
       "Giá trị nhỏ nhất                  1.0                  1.0   \n",
       "Tứ phân vị dưới                   3.0                  8.0   \n",
       "Trung vị                          5.0                 15.0   \n",
       "Tứ phân vị trên                   7.0                 22.0   \n",
       "Giá trị lớn nhất                  9.0                 29.0   \n",
       "\n",
       "                     Number of Videos Watched  ProductivityLoss  Satisfaction  \\\n",
       "Tỷ lệ giá trị thiếu                       0.0               0.0           0.0   \n",
       "Giá trị nhỏ nhất                          1.0               1.0           1.0   \n",
       "Tứ phân vị dưới                          14.0               3.0           4.0   \n",
       "Trung vị                                 25.0               5.0           5.0   \n",
       "Tứ phân vị trên                          37.0               6.0           7.0   \n",
       "Giá trị lớn nhất                         49.0               9.0           9.0   \n",
       "\n",
       "                     Self Control  Addiction Level  \n",
       "Tỷ lệ giá trị thiếu           0.0              0.0  \n",
       "Giá trị nhỏ nhất              3.0              0.0  \n",
       "Tứ phân vị dưới               5.0              2.0  \n",
       "Trung vị                      7.0              3.0  \n",
       "Tứ phân vị trên               8.0              5.0  \n",
       "Giá trị lớn nhất             10.0              7.0  "
      ]
     },
     "execution_count": 13,
     "metadata": {},
     "output_type": "execute_result"
    }
   ],
   "source": [
    "# Chọn ra những cột có kiểu định lượng\n",
    "numeric_cols = data.select_dtypes(include=['number']).columns\n",
    "\n",
    "# Tính toán các giá trị thống kê\n",
    "def missing_ratio(series):\n",
    "    return series.isnull().mean() * 100\n",
    "\n",
    "def lower_quartile(series):\n",
    "    return series.quantile(0.25)\n",
    "\n",
    "def median(series):\n",
    "    return series.median()\n",
    "\n",
    "def upper_quartile(series):\n",
    "    return series.quantile(0.75)\n",
    "\n",
    "min_vals = data[numeric_cols].min()\n",
    "max_vals = data[numeric_cols].max()\n",
    "lower_quartiles = data[numeric_cols].apply(lower_quartile)\n",
    "medians = data[numeric_cols].median()\n",
    "upper_quartiles = data[numeric_cols].apply(upper_quartile)\n",
    "\n",
    "# Tạo một DataFrame chứa các giá trị thống kê của những cột định lượng\n",
    "num_col_info_df = pd.DataFrame({\n",
    "    \"Tỷ lệ giá trị thiếu\": data[numeric_cols].apply(missing_ratio).round(1),\n",
    "    \"Giá trị nhỏ nhất\": min_vals.round(1),\n",
    "    \"Tứ phân vị dưới\": lower_quartiles.round(1),\n",
    "    \"Trung vị\": medians.round(1),\n",
    "    \"Tứ phân vị trên\": upper_quartiles.round(1),\n",
    "    \"Giá trị lớn nhất\": max_vals.round(1)\n",
    "}).T\n",
    "\n",
    "# In ra\n",
    "num_col_info_df"
   ]
  },
  {
   "cell_type": "markdown",
   "metadata": {},
   "source": [
    "**Nhận xét**: Dữ liệu trong các cột dữ liệu dạng định lượng của DataFrame không có bất kỳ giá trị nào bị thiếu."
   ]
  },
  {
   "cell_type": "markdown",
   "metadata": {},
   "source": [
    "##### 3.3.2. Sự phân bố dữ liệu"
   ]
  },
  {
   "cell_type": "markdown",
   "metadata": {},
   "source": [
    "Từ mô tả của dữ liệu và đánh giá sơ bộ, nhóm nhận thấy rằng trong các cột dữ liệu định lượng thì thì dữ liệu của các cột `Income`, `Total Time Spent` và `Time Spent On Video` là *liên tục*; còn dữ liệu các cột `Age`, `Number of Sessions`, `Number of Videos Watched`, `Importance Score`, `ProductivityLoss`, `Satisfaction`, `Self Control` và `Addiction Level` là *rời rạc*. Vì vậy nhóm sẽ sử dụng 2 loại biểu đồ là **histogram** cho cột có kiểu dữ liệu liên tục và **bar chart** cho kiểu dữ liệu rời rạc để trực quan hóa phân bố giá trị của các cột này.  "
   ]
  },
  {
   "cell_type": "code",
   "execution_count": 14,
   "metadata": {},
   "outputs": [],
   "source": [
    "# Danh sách các cột tương ứng với histogram và bar plot\n",
    "histogram_columns = [\"Income\", \"Total Time Spent\", \"Time Spent On Video\"]\n",
    "bar_columns = [\"Number of Sessions\", \"Number of Videos Watched\", \"Importance Score\", \"ProductivityLoss\", \"Satisfaction\", \"Self Control\", \"Addiction Level\"]"
   ]
  },
  {
   "cell_type": "code",
   "execution_count": 15,
   "metadata": {},
   "outputs": [
    {
     "data": {
      "image/png": "[encoded data removed]",
      "text/plain": [
       "<Figure size 1600x1200 with 12 Axes>"
      ]
     },
     "metadata": {},
     "output_type": "display_data"
    }
   ],
   "source": [
    "# Đặt các nhóm cho cột 'Number of Videos Watched' với khoảng từ 1-49\n",
    "bins = [0, 5, 10, 15, 20, 25, 30, 35, 40, 45, 50]\n",
    "labels = ['1-5', '6-10', '11-15', '16-20', '21-25', '26-30', '31-35', '36-40', '41-45', '46-50']\n",
    "\n",
    "# Gom nhóm cột 'Number of Videos Watched' vào các bins\n",
    "videos_watched_group = pd.cut(data['Number of Videos Watched'], bins=bins, labels=labels, right=True)\n",
    "\n",
    "# Vẽ biểu đồ phân bố giá trị của các cột (4 hàng, 3 cột)\n",
    "numerical_fig, numerical_axes = plt.subplots(4, 3, figsize=(16, 12))\n",
    "\n",
    "# Vẽ histogram cho các cột liên tục\n",
    "for i, col_name in enumerate(histogram_columns):\n",
    "    ax = numerical_axes[i // 3, i % 3]  # Điều chỉnh chỉ số để vẽ vào vị trí chính xác\n",
    "    ax.hist(data[col_name].dropna(), bins=20, color='skyblue', edgecolor='black')\n",
    "    ax.set_title(f'Histogram của \"{col_name}\"')\n",
    "    ax.set_xlabel(col_name)\n",
    "    ax.set_ylabel('Frequency')\n",
    "\n",
    "# Vẽ bar chart cho các cột rời rạc\n",
    "for i, col_name in enumerate(bar_columns):\n",
    "    ax = numerical_axes[(i + 3) // 3, (i + 3) % 3]  # Điều chỉnh chỉ số để vẽ vào vị trí chính xác\n",
    "    if col_name == 'Number of Videos Watched':  # Sử dụng nhóm giá trị đã gom cho 'Number of Videos Watched'\n",
    "        value_counts = videos_watched_group.value_counts().sort_index()\n",
    "    else:\n",
    "        value_counts = data[col_name].value_counts().sort_index()\n",
    "    ax.bar(value_counts.index, value_counts.values, color='skyblue', edgecolor='black')\n",
    "    ax.set_title(f'Bar Plot của \"{col_name}\"')\n",
    "    ax.set_xlabel(col_name)\n",
    "    ax.set_ylabel('Count')\n",
    "    ax.set_xticks(value_counts.index)  # Đặt giới hạn trục x nếu cần\n",
    "\n",
    "# Tắt trục của ô cuối cùng nếu không có biểu đồ\n",
    "numerical_axes[3, 1].axis('off')\n",
    "numerical_axes[3, 2].axis('off')\n",
    "\n",
    "plt.tight_layout()\n",
    "plt.show()\n"
   ]
  },
  {
   "cell_type": "markdown",
   "metadata": {},
   "source": [
    "##### 3.3.3. Xử lý dữ liệu lỗi hoặc bất thường"
   ]
  },
  {
   "cell_type": "code",
   "execution_count": 16,
   "metadata": {},
   "outputs": [
    {
     "data": {
      "text/html": [
       "<div>\n",
       "<style scoped>\n",
       "    .dataframe tbody tr th:only-of-type {\n",
       "        vertical-align: middle;\n",
       "    }\n",
       "\n",
       "    .dataframe tbody tr th {\n",
       "        vertical-align: top;\n",
       "    }\n",
       "\n",
       "    .dataframe thead th {\n",
       "        text-align: right;\n",
       "    }\n",
       "</style>\n",
       "<table border=\"1\" class=\"dataframe\">\n",
       "  <thead>\n",
       "    <tr style=\"text-align: right;\">\n",
       "      <th></th>\n",
       "      <th>Income</th>\n",
       "      <th>Total Time Spent</th>\n",
       "      <th>Number of Sessions</th>\n",
       "      <th>Importance Score</th>\n",
       "      <th>Time Spent On Video</th>\n",
       "      <th>Number of Videos Watched</th>\n",
       "      <th>ProductivityLoss</th>\n",
       "      <th>Satisfaction</th>\n",
       "      <th>Self Control</th>\n",
       "      <th>Addiction Level</th>\n",
       "    </tr>\n",
       "  </thead>\n",
       "  <tbody>\n",
       "    <tr>\n",
       "      <th>outlier_count</th>\n",
       "      <td>0.00</td>\n",
       "      <td>0.0</td>\n",
       "      <td>0.0</td>\n",
       "      <td>0.0</td>\n",
       "      <td>0.0</td>\n",
       "      <td>0.0</td>\n",
       "      <td>0.0</td>\n",
       "      <td>0.0</td>\n",
       "      <td>0.0</td>\n",
       "      <td>0.0</td>\n",
       "    </tr>\n",
       "    <tr>\n",
       "      <th>outlier_percentage</th>\n",
       "      <td>0.00</td>\n",
       "      <td>0.0</td>\n",
       "      <td>0.0</td>\n",
       "      <td>0.0</td>\n",
       "      <td>0.0</td>\n",
       "      <td>0.0</td>\n",
       "      <td>0.0</td>\n",
       "      <td>0.0</td>\n",
       "      <td>0.0</td>\n",
       "      <td>0.0</td>\n",
       "    </tr>\n",
       "    <tr>\n",
       "      <th>lower_bound</th>\n",
       "      <td>0.00</td>\n",
       "      <td>0.0</td>\n",
       "      <td>0.0</td>\n",
       "      <td>0.0</td>\n",
       "      <td>0.0</td>\n",
       "      <td>0.0</td>\n",
       "      <td>0.0</td>\n",
       "      <td>0.0</td>\n",
       "      <td>0.5</td>\n",
       "      <td>0.0</td>\n",
       "    </tr>\n",
       "    <tr>\n",
       "      <th>upper_bound</th>\n",
       "      <td>141467.75</td>\n",
       "      <td>440.5</td>\n",
       "      <td>28.5</td>\n",
       "      <td>13.0</td>\n",
       "      <td>43.0</td>\n",
       "      <td>71.5</td>\n",
       "      <td>10.5</td>\n",
       "      <td>11.5</td>\n",
       "      <td>12.5</td>\n",
       "      <td>9.5</td>\n",
       "    </tr>\n",
       "  </tbody>\n",
       "</table>\n",
       "</div>"
      ],
      "text/plain": [
       "                       Income  Total Time Spent  Number of Sessions  \\\n",
       "outlier_count            0.00               0.0                 0.0   \n",
       "outlier_percentage       0.00               0.0                 0.0   \n",
       "lower_bound              0.00               0.0                 0.0   \n",
       "upper_bound         141467.75             440.5                28.5   \n",
       "\n",
       "                    Importance Score  Time Spent On Video  \\\n",
       "outlier_count                    0.0                  0.0   \n",
       "outlier_percentage               0.0                  0.0   \n",
       "lower_bound                      0.0                  0.0   \n",
       "upper_bound                     13.0                 43.0   \n",
       "\n",
       "                    Number of Videos Watched  ProductivityLoss  Satisfaction  \\\n",
       "outlier_count                            0.0               0.0           0.0   \n",
       "outlier_percentage                       0.0               0.0           0.0   \n",
       "lower_bound                              0.0               0.0           0.0   \n",
       "upper_bound                             71.5              10.5          11.5   \n",
       "\n",
       "                    Self Control  Addiction Level  \n",
       "outlier_count                0.0              0.0  \n",
       "outlier_percentage           0.0              0.0  \n",
       "lower_bound                  0.5              0.0  \n",
       "upper_bound                 12.5              9.5  "
      ]
     },
     "execution_count": 16,
     "metadata": {},
     "output_type": "execute_result"
    }
   ],
   "source": [
    "# Hàm đếm outlier dựa trên quy tắc Tukey\n",
    "def count_outliers(data, column):\n",
    "    Q1 = data[column].quantile(0.25)  # Phân vị thứ 25\n",
    "    Q3 = data[column].quantile(0.75)  # Phân vị thứ 75\n",
    "    IQR = Q3 - Q1                    # Khoảng tứ phân vị (IQR)\n",
    "    lower_bound = Q1 - 1.5 * IQR     # Ngưỡng dưới\n",
    "    upper_bound = Q3 + 1.5 * IQR     # Ngưỡng trên\n",
    "    outliers = data[(data[column] < lower_bound) | (data[column] > upper_bound)]\n",
    "\n",
    "    # Kiểm tra nếu ngưỡng dưới âm và điều chỉnh\n",
    "    if lower_bound < 0:\n",
    "        lower_bound = 0  # Đặt lại ngưỡng dưới bằng 0 vì nếu mang giá trị âm sẽ không hợp lý với dữ liệu\n",
    "        \n",
    "    return len(outliers), lower_bound, upper_bound\n",
    "\n",
    "def count_outliers_for_all_columns(data, numerical_columns):\n",
    "    outliers_info = {}\n",
    "    for column in numerical_columns:\n",
    "        outlier_count, lower_bound, upper_bound = count_outliers(data, column)\n",
    "\n",
    "        # Lưu kết quả vào info\n",
    "        outliers_info[column] = {\n",
    "            'outlier_count': outlier_count,\n",
    "            'outlier_percentage': outlier_count / data.shape[0],\n",
    "            'lower_bound': lower_bound,\n",
    "            'upper_bound': upper_bound\n",
    "\n",
    "        }\n",
    "\n",
    "    return outliers_info\n",
    "\n",
    "# In kết quả\n",
    "outliers_data = pd.DataFrame(count_outliers_for_all_columns(data, numerical_columns))\n",
    "outliers_data"
   ]
  },
  {
   "cell_type": "markdown",
   "metadata": {},
   "source": [
    "**Nhận xét**:\n",
    "- **Không có giá trị ngoại lai**: Dựa vào DataFrame outliers và biểu đồ Histogram bên trên, ta thấy dữ liệu không chứa giá trị ngoại lai trong các cột định lượng. Các giá trị đều nằm trong khoảng phân bố hợp lý.\n",
    "\n",
    "- **Dữ liệu sạch và hợp lệ**: Không tồn tại dữ liệu lỗi hoặc bất thường. Điều này cho thấy dữ liệu được thu thập có chất lượng tốt, phù hợp để thực hiện các bước phân tích tiếp theo."
   ]
  },
  {
   "cell_type": "markdown",
   "metadata": {},
   "source": [
    "#### 3.4. Sự phân bố dữ liệu của các cột có kiểu định tính\n",
    "Các cột có kiểu dữ liệu định tính"
   ]
  },
  {
   "cell_type": "code",
   "execution_count": 17,
   "metadata": {},
   "outputs": [
    {
     "name": "stdout",
     "output_type": "stream",
     "text": [
      "Các cột có kiểu dữ liệu định tính: \n",
      "Profession\n",
      "Platform\n",
      "Video Category\n",
      "Frequency\n",
      "Watch Reason\n",
      "CurrentActivity\n",
      "Female\n",
      "Male\n",
      "Age Group\n"
     ]
    }
   ],
   "source": [
    "categorical_columns = data.select_dtypes(exclude=['number']).columns.tolist()\n",
    "print('Các cột có kiểu dữ liệu định tính: ')\n",
    "for col_name in categorical_columns:\n",
    "    print(col_name)"
   ]
  },
  {
   "cell_type": "markdown",
   "metadata": {},
   "source": [
    "#### 3.4.1 Tỉ lệ phần trăm các giá trị bị thiếu trong mỗi cột"
   ]
  },
  {
   "cell_type": "markdown",
   "metadata": {},
   "source": [
    "#### 3.4.2 Số giá trị phân biệt của mỗi cột\n"
   ]
  },
  {
   "cell_type": "markdown",
   "metadata": {},
   "source": [
    "Sự phân bố, vẽ biểu đồ\n",
    "\n",
    "Đại khái d, tự đổi tên cell nha"
   ]
  },
  {
   "cell_type": "markdown",
   "metadata": {},
   "source": [
    "#### 3.4.3 Xử lý dữ liệu bất thường"
   ]
  },
  {
   "cell_type": "markdown",
   "metadata": {},
   "source": [
    "#### 3.4.4 Xử lý dữ liệu phân loại"
   ]
  },
  {
   "cell_type": "markdown",
   "metadata": {},
   "source": [
    "Xử lý nếu có"
   ]
  },
  {
   "cell_type": "markdown",
   "metadata": {},
   "source": [
    "## Sau các bước tiền xử lý"
   ]
  },
  {
   "cell_type": "markdown",
   "metadata": {},
   "source": [
    "Số hàng, số cột của dữ liệu:"
   ]
  },
  {
   "cell_type": "code",
   "execution_count": 18,
   "metadata": {},
   "outputs": [
    {
     "data": {
      "text/plain": [
       "(1000, 19)"
      ]
     },
     "execution_count": 18,
     "metadata": {},
     "output_type": "execute_result"
    }
   ],
   "source": [
    "data.shape"
   ]
  },
  {
   "cell_type": "markdown",
   "metadata": {},
   "source": [
    "Mỗi cột có ý nghĩa sau: \n",
    "|Tên cột|Ý nghĩa|\n",
    "|-------|-------|\n",
    "| Age| Tuổi của người dùng|\n",
    "| Income| Thu nhập của người dùng|\n",
    "| Profession| Nghề nghiệp của người dùng|\n",
    "| Platform| Nền tảng mà người dùng truy cập|\n",
    "| Total Time Spent| Tổng thời gian người dùng đã dành trên nên tảng|\n",
    "| Number of Sessions| Số lần người dùng truy cập vào nền tảng|\n",
    "| Video Category| Thể loại của video|\n",
    "| Importance Score| Điểm đánh giá tầm quan trọng của video đối với người dùng|\n",
    "| Time Spent On Video| Thời gian người dùng dành để xem một video cụ thể|\n",
    "| Number of Videos Watched| Số lượng video người dùng đã xem|\n",
    "| Frequency| Tần suất người dùng tương tác với nền tảng|\n",
    "| ProductivityLoss| Tác động của việc sử dụng nền tảng đến năng suất của người dùng|\n",
    "| Satisfaction| Mức độ hài lòng của người dùng|\n",
    "| Watch Reason| Lý do người dùng xem video|\n",
    "| Self Control| Mức độ kiểm soát việc sử dụng nền tảng của người dùng|\n",
    "| Addiction Level| Mức độ nghiện của người dùng vào nền tảng|\n",
    "| CurrentActivity| Người dùng đang làm gì khi xem video|\n",
    "| Female| Giới tính nữ|\n",
    "| Male| Giới tính nam|"
   ]
  },
  {
   "cell_type": "markdown",
   "metadata": {},
   "source": [
    "Kiểu dữ liệu của các cột"
   ]
  },
  {
   "cell_type": "code",
   "execution_count": 19,
   "metadata": {},
   "outputs": [
    {
     "data": {
      "text/plain": [
       "Income                         int64\n",
       "Profession                    object\n",
       "Platform                    category\n",
       "Total Time Spent               int64\n",
       "Number of Sessions             int64\n",
       "Video Category              category\n",
       "Importance Score               int64\n",
       "Time Spent On Video            int64\n",
       "Number of Videos Watched       int64\n",
       "Frequency                   category\n",
       "ProductivityLoss               int64\n",
       "Satisfaction                   int64\n",
       "Watch Reason                category\n",
       "Self Control                   int64\n",
       "Addiction Level                int64\n",
       "CurrentActivity             category\n",
       "Female                          bool\n",
       "Male                            bool\n",
       "Age Group                   category\n",
       "dtype: object"
      ]
     },
     "execution_count": 19,
     "metadata": {},
     "output_type": "execute_result"
    }
   ],
   "source": [
    "data.dtypes"
   ]
  },
  {
   "cell_type": "markdown",
   "metadata": {},
   "source": [
    "### Mô tả mối tương quan giữa các đặc trưng trong tập dữ liệu"
   ]
  },
  {
   "cell_type": "code",
   "execution_count": null,
   "metadata": {},
   "outputs": [],
   "source": []
  },
  {
   "cell_type": "markdown",
   "metadata": {},
   "source": [
    "Nhận xét:"
   ]
  },
  {
   "cell_type": "markdown",
   "metadata": {},
   "source": [
    "Thực hiện lưu dữ liệu này vào 1 tệp mới và thực hiện phân tích trên tệp này."
   ]
  },
  {
   "cell_type": "code",
   "execution_count": 20,
   "metadata": {},
   "outputs": [],
   "source": [
    "data.to_csv('../Data/Time-Wasters on Social Media Clean.csv', index=False)"
   ]
  }
 ],
 "metadata": {
  "kernelspec": {
   "display_name": "Python 3",
   "language": "python",
   "name": "python3"
  },
  "language_info": {
   "codemirror_mode": {
    "name": "ipython",
    "version": 3
   },
   "file_extension": ".py",
   "mimetype": "text/x-python",
   "name": "python",
   "nbconvert_exporter": "python",
   "pygments_lexer": "ipython3",
   "version": "3.11.9"
  }
 },
 "nbformat": 4,
 "nbformat_minor": 2
}
