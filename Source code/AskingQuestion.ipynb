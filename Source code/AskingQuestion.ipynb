{
 "cells": [
  {
   "cell_type": "markdown",
   "metadata": {},
   "source": [
    "# <a id='toc1_'></a>[ANSWERING QUESTION](#toc0_)\n",
    "---"
   ]
  },
  {
   "cell_type": "markdown",
   "metadata": {},
   "source": [
    "Nhiệm vụ phần này bao gồm: \n",
    "- Đặt các câu hỏi có ý nghĩa\n",
    "- Giải thích tại sao cần trả lời câu hỏi này\n",
    "- Xây dựng phương  để trả lời câu hỏi"
   ]
  },
  {
   "cell_type": "markdown",
   "metadata": {},
   "source": [
    "**Table of contents**<a id='toc0_'></a>    \n",
    "- [ANSWERING QUESTION](#toc1_)    \n",
    "  - [Câu 1: Thời gian sử dụng nền tảng, thể loại video hay lý do xem video ảnh hưởng nhất mức độ nghiện của người dùng.](#toc1_1_)    \n",
    "  - [Câu 2: Có sự khác biệt nào về sự kiểm soát bản thân và mức độ nghiện giữa các nhóm nghề nghiệp khác nhau (sinh viên và người đi làm) không?](#toc1_2_)    \n",
    "  - [Câu 3: Sự khác biệt giữa các nhóm tuổi trong tần suất sử dụng nền tảng và mức độ nghiện.](#toc1_3_)    \n",
    "  - [Câu 4: Lý do xem video (Watch Reason) khác nhau như thế nào giữa các nhóm tuổi trong cùng một giới tính?](#toc1_4_)    \n",
    "  - [Câu 5: Thời gian dành cho mạng xã hội ảnh hưởng như thế nào đến khả năng quản lý công việc và học tập?](#toc1_5_)    \n",
    "  - [Câu 6: Có mối liên hệ nào giữa nghề nghiệp, độ tuổi và tần suất sử dụng nền tảng không?](#toc1_6_)    \n",
    "\n",
    "<!-- vscode-jupyter-toc-config\n",
    "\tnumbering=false\n",
    "\tanchor=true\n",
    "\tflat=false\n",
    "\tminLevel=1\n",
    "\tmaxLevel=6\n",
    "\t/vscode-jupyter-toc-config -->\n",
    "<!-- THIS CELL WILL BE REPLACED ON TOC UPDATE. DO NOT WRITE YOUR TEXT IN THIS CELL -->"
   ]
  },
  {
   "cell_type": "markdown",
   "metadata": {},
   "source": [
    "## <a id='toc1_1_'></a>[Câu 1: Thời gian sử dụng nền tảng, thể loại video hay lý do xem video ảnh hưởng nhất mức độ nghiện của người dùng.](#toc0_)"
   ]
  },
  {
   "cell_type": "markdown",
   "metadata": {},
   "source": [
    "Mức độ nghiện mạng xã hội có thể gây ảnh hưởng tiêu cực đến sức khỏe tâm lý và cuộc sống cá nhân người dùng.\n",
    "\n",
    "Trả lời câu hỏi này:\n",
    "- Hiểu được yếu tố tác động lớn nhất đến mức độ nghiện, có thể xây dựng các biện pháp giảm thiểu nghiện mạng xã hội.\n",
    "- Giúp các nền tảng mạng xã hội kiểm soát việc phân phối nội dung hoặc điều chỉnh thiết kế để hạn chế các tác động tiêu cực đến người dùng."
   ]
  },
  {
   "cell_type": "markdown",
   "metadata": {},
   "source": [
    "Để trả lời câu hỏi này:\n",
    "- Sử dụng các cột **Total Time Spent, Video Category, Watch Reason** và **Addiction Level**.\n",
    "- Chuẩn hóa dữ liệu.\n",
    "- Xây dựng mô hình để xác định mức độ ảnh hưởng của từng yếu tố.\n",
    "- Biểu đồ thanh ngang (Horizontal Bar Chart) để so sánh mức độ ảnh hưởng của từng yếu tố"
   ]
  },
  {
   "cell_type": "markdown",
   "metadata": {},
   "source": [
    "## <a id='toc1_2_'></a>[Câu 2: Có sự khác biệt nào về sự kiểm soát bản thân và mức độ nghiện giữa các nhóm nghề nghiệp khác nhau (sinh viên và người đi làm) không?](#toc0_)"
   ]
  },
  {
   "cell_type": "markdown",
   "metadata": {},
   "source": [
    "Các nhóm nghề nghiệp có thể có thói quen và khả năng kiểm soát thời gian khác nhau khi sử dụng mạng xã hội.\n",
    "\n",
    "Trả lời câu hỏi này: \n",
    "- Xác định liệu sinh viên hay người đi làm dễ bị nghiện hơn\n",
    "- Khả năng kiểm soát bản thân của từng nhóm\n",
    "- Đưa ra nhận thức về tác động của nghề nghiệp đối với hành vi sử dụng mạng xã hội\n",
    "- Giúp đề xuất các giải pháp điều chỉnh cụ thể."
   ]
  },
  {
   "cell_type": "markdown",
   "metadata": {},
   "source": [
    "Để trả lời câu hỏi này:\n",
    "- Sử dụng các cột **Self Control, Addiction Level**, và **Profession**\n",
    "\n",
    "- Chia dữ liệu thành 2 nhóm là Student và Employed Person.\n",
    "\n",
    "- Tìm hiểu giá trị trung bình và mức độ biến động của từng đặc trưng trong toàn bộ dữ liệu.\n",
    "\n",
    "- Trực quan hóa bằng biểu đồ hộp hoặc cột để thấy rõ mức độ kiểm soát và nghiện của từng nhóm."
   ]
  },
  {
   "cell_type": "markdown",
   "metadata": {},
   "source": [
    "## <a id='toc1_3_'></a>[Câu 3: Sự khác biệt giữa các nhóm tuổi trong tần suất sử dụng nền tảng và mức độ nghiện.](#toc0_)"
   ]
  },
  {
   "cell_type": "markdown",
   "metadata": {},
   "source": [
    "Rút ra nhóm tuổi có tần suất cao và dễ bị nghiện nhất.\n",
    "\n",
    "Trả lời câu hỏi này:\n",
    "\n",
    "- Giúp hiểu cách từng nhóm tuổi tương tác với nền tảng để cá nhân hóa trải nghiệm.\n",
    "\n",
    "- Xác định nhóm tuổi dễ bị nghiện nhất, hỗ trợ xây dựng các tính năng giúp quản lý thời gian sử dụng."
   ]
  },
  {
   "cell_type": "markdown",
   "metadata": {},
   "source": [
    "Để trả lời câu hỏi này:\n",
    "\n",
    "- Cột cần dùng: Age Group, Frequency và Addiction Level.\n",
    "\n",
    "- Tính toán: Tính trung bình Frequency và Addiction Level cho từng nhóm.\n",
    "\n",
    "- Trực quan hóa: Sử dụng biểu đồ cột hoặc boxplot để so sánh các nhóm tuổi."
   ]
  },
  {
   "cell_type": "markdown",
   "metadata": {},
   "source": [
    "## <a id='toc1_4_'></a>[Câu 4: Lý do xem video (Watch Reason) khác nhau như thế nào giữa các nhóm tuổi trong cùng một giới tính?](#toc0_)"
   ]
  },
  {
   "cell_type": "markdown",
   "metadata": {},
   "source": [
    "Xác định lý do phổ biến nhất cho từng độ tuổi và giới tính.\n",
    "\n",
    "Trả lời câu hỏi này:\n",
    "\n",
    "- Phân tích giúp hiểu động lực của từng nhóm người dùng, hỗ trợ phát triển nội dung phù hợp với từng độ tuổi và giới tính.\n",
    "\n",
    "- Xác định mối quan hệ giữa động lực xem và hành vi người dùng."
   ]
  },
  {
   "cell_type": "markdown",
   "metadata": {},
   "source": [
    "Để trả lời câu hỏi này:\n",
    "\n",
    "- Cột cần dùng: Watch Reason, Age Group, và Female/Male.\n",
    "\n",
    "- Tính toán: Đếm số lần mỗi lý do được chọn trong từng nhóm.\n",
    "\n",
    "- Trực quan hóa: Dùng biểu đồ stack bar hoặc heatmap để thể hiện sự khác biệt."
   ]
  },
  {
   "cell_type": "markdown",
   "metadata": {},
   "source": [
    "## <a id='toc1_5_'></a>[Câu 5: Thời gian dành cho mạng xã hội ảnh hưởng như thế nào đến khả năng quản lý công việc và học tập?](#toc0_)"
   ]
  },
  {
   "cell_type": "markdown",
   "metadata": {},
   "source": [
    "Thời gian sử dụng mạng xã hội có thể ảnh hưởng đến năng suất và chất lượng công việc hoặc học tập.\n",
    "\n",
    "Trả lời câu hỏi này:\n",
    "\n",
    "- Đề xuất giải pháp quản lý thời gian hiệu quả hơn khi sử dụng mạng xã hội, tăng cường khả năng tự kiểm soát để giảm tác động tiêu cực.\n",
    "\n",
    "- Cảnh báo người dùng về rủi ro khi sử dụng quá nhiều thời gian trên nền tảng, đặc biệt khi mức tự kiểm soát thấp."
   ]
  },
  {
   "cell_type": "markdown",
   "metadata": {},
   "source": [
    "Để trả lời câu hỏi này:\n",
    "\n",
    "- Sử dụng các cột: **Total Time Spent**, **ProductivityLoss**, và **Self Control**.\n",
    "\n",
    "- Xem phân phối thời gian: Tính trung bình thời gian sử dụng, mức độ mất năng suất và mức độ tự kiểm soát\n",
    "\n",
    "- Phân tích nhóm: Chia người dùng thành nhóm thời gian sử dụng cao và thấp, so sánh sự mất năng suất và mức độ tự kiểm soát giữa hai nhóm\n",
    "\n",
    "- Trực quan hóa: \n",
    "\n",
    "    - Biểu đồ cột (barplot) để so sánh mức độ mất năng suất, mức độ tự kiểm soát giữa các nhóm thời gian sử dụng."
   ]
  },
  {
   "cell_type": "markdown",
   "metadata": {},
   "source": [
    "## <a id='toc1_6_'></a>[Câu 6: Có mối liên hệ nào giữa nghề nghiệp, độ tuổi và tần suất sử dụng nền tảng không?](#toc0_)"
   ]
  },
  {
   "cell_type": "markdown",
   "metadata": {},
   "source": [
    "Giúp hiểu sự khác biệt trong thói quen sử dụng nền tảng giữa các nhóm nghề nghiệp và độ tuổi.\n",
    "\n",
    "Trả lời câu hỏi này:\n",
    "\n",
    "- Phân tích xem liệu nghề nghiệp và độ tuổi có ảnh hưởng đến tần suất sử dụng nền tảng hay không.\n",
    "\n",
    "- Hỗ trợ xây dựng các chiến lược cải thiện trải nghiệm người dùng và cá nhân hóa nội dung dựa trên nghề nghiệp và độ tuổi."
   ]
  },
  {
   "cell_type": "markdown",
   "metadata": {},
   "source": [
    "Để trả lời câu hỏi này:\n",
    "\n",
    "- Sử dụng các cột: **Profession**, **Age Group**, và **Frequency**.\n",
    "\n",
    "- Tính toán: Tính trung bình tần suất sử dụng nền tảng theo từng nhóm nghề nghiệp và độ tuổi.\n",
    "\n",
    "- Trực quan hóa: Sử dụng biểu đồ cột, boxplot hoặc heatmap để so sánh tần suất sử dụng nền tảng giữa các nhóm nghề nghiệp và độ tuổi."
   ]
  }
 ],
 "metadata": {
  "kernelspec": {
   "display_name": "Python 3 (ipykernel)",
   "language": "python",
   "name": "python3"
  },
  "language_info": {
   "codemirror_mode": {
    "name": "ipython",
    "version": 3
   },
   "file_extension": ".py",
   "mimetype": "text/x-python",
   "name": "python",
   "nbconvert_exporter": "python",
   "pygments_lexer": "ipython3",
   "version": "3.12.4"
  }
 },
 "nbformat": 4,
 "nbformat_minor": 4
}
