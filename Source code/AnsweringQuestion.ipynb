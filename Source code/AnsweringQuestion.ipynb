{
 "cells": [
  {
   "cell_type": "markdown",
   "metadata": {},
   "source": [
    "# ANSWERING QUESTION\n",
    "---"
   ]
  },
  {
   "cell_type": "markdown",
   "metadata": {},
   "source": [
    "Nhiệm vụ phần này bao gồm: \n",
    "- Đặt các câu hỏi có ý nghĩa\n",
    "- Giải thích tại sao cần trả lời câu hỏi này\n",
    "- Xây dựng phương  để trả lời câu hỏi"
   ]
  },
  {
   "cell_type": "markdown",
   "metadata": {},
   "source": [
    "## Câu 1: Thời gian sử dụng nền tảng, thể loại video hay lý do xem video ảnh hưởng nhất mức độ nghiện của người dùng. "
   ]
  },
  {
   "cell_type": "markdown",
   "metadata": {},
   "source": [
    "Mức độ nghiện mạng xã hội có thể gây ảnh hưởng tiêu cực đến sức khỏe tâm lý và cuộc sống cá nhân người dùng.\n",
    "\n",
    "Trả lời câu hỏi này:\n",
    "- Hiểu được yếu tố tác động lớn nhất đến mức độ nghiện, có thể xây dựng các biện pháp giảm thiểu nghiện mạng xã hội.\n",
    "- Giúp các nền tảng mạng xã hội kiểm soát việc phân phối nội dung hoặc điều chỉnh thiết kế để hạn chế các tác động tiêu cực đến người dùng."
   ]
  },
  {
   "cell_type": "markdown",
   "metadata": {},
   "source": [
    "Để trả lời câu hỏi này:\n",
    "- Sử dụng các cột **Total Time Spent, Video Category, Watch Reason** và **Addiction Level**.\n",
    "- Xem phân phối thời gian sử dụng trung bình của người dùng để hiểu hành vi sử dụng nền tảng.\n",
    "- Chuẩn hóa dữ liệu.\n",
    "- Phân tích tương quan để kiểm tra mối quan hệ giữa các yếu tố.\n",
    "- Xây dựng mô hình hồi quy tuyến tính đa biến để xác định mức độ ảnh hưởng của từng yếu tố.\n",
    "- Có thể dùng các phương pháp phân tích để xác định rõ mức độ ảnh hưởng.\n",
    "- Biểu đồ hộp (boxplot) hoặc biểu đồ phân tán (scatter plot) để trực quan hóa các mối quan hệ."
   ]
  },
  {
   "cell_type": "markdown",
   "metadata": {},
   "source": [
    "## Câu 2: Có sự khác biệt nào về sự kiểm soát bản thân và mức độ nghiện giữa các nhóm nghề nghiệp khác nhau (sinh viên và người đi làm) không?"
   ]
  },
  {
   "cell_type": "markdown",
   "metadata": {},
   "source": [
    "Các nhóm nghề nghiệp có thể có thói quen và khả năng kiểm soát thời gian khác nhau khi sử dụng mạng xã hội.\n",
    "\n",
    "Trả lời câu hỏi này: \n",
    "- Xác định liệu sinh viên hay người đi làm dễ bị nghiện hơn\n",
    "- Khả năng kiểm soát bản thân của từng nhóm\n",
    "- Đưa ra nhận thức về tác động của nghề nghiệp đối với hành vi sử dụng mạng xã hội\n",
    "- Giúp đề xuất các giải pháp điều chỉnh cụ thể."
   ]
  },
  {
   "cell_type": "markdown",
   "metadata": {},
   "source": [
    "Để trả lời câu hỏi này:\n",
    "- Sử dụng các cột **Self Control, Addiction Level**, và **Profession**:\n",
    "\n",
    "- Chia dữ liệu thành 2 nhóm là Student và Employed Person.\n",
    "\n",
    "- Có thể kết hợp thêm yếu tố tuổi hoặc thu nhập.\n",
    "\n",
    "- Tìm hiểu giá trị trung bình và mức độ biến động của từng đặc trưng trong toàn bộ dữ liệu.\n",
    "\n",
    "- Trực quan hóa bằng biểu đồ hộp hoặc cột để thấy rõ mức độ kiểm soát và nghiện của từng nhóm."
   ]
  },
  {
   "cell_type": "markdown",
   "metadata": {
    "vscode": {
     "languageId": "plaintext"
    }
   },
   "source": [
    "## Câu 3:"
   ]
  },
  {
   "cell_type": "markdown",
   "metadata": {},
   "source": [
    "## Câu 4: "
   ]
  },
  {
   "cell_type": "markdown",
   "metadata": {},
   "source": [
    "## Câu 5: "
   ]
  },
  {
   "cell_type": "markdown",
   "metadata": {},
   "source": [
    "## Câu 6: "
   ]
  },
  {
   "cell_type": "markdown",
   "metadata": {},
   "source": [
    "## List câu hỏi tham khảo:\n",
    "- Thu nhập và nghề nghiệp ảnh hưởng như thế nào đến tác động của việc sử dụng mạng xã hội đối với năng suất cá nhân?\n",
    "\n",
    "- Có phải người dùng xem video nhiều hơn khi họ cảm thấy ít kiểm soát bản thân, hay chính việc xem video gây ra sự thiếu kiểm soát này?\n",
    "\n",
    "- Mối quan hệ giữa tần suất sử dụng nền tảng và mức độ hài lòng có thay đổi theo độ tuổi không?\n",
    "\n",
    "- Lý do người dùng xem video có thực sự ảnh hưởng đến mức độ nghiện của họ không, hay đó chỉ là cảm giác tự tạo ra?\n",
    "\n",
    "- Các yếu tố nào tác động mạnh nhất đến sự mất năng suất trong công việc và học tập khi sử dụng nền tảng mạng xã hội?\n",
    "\n",
    "- Thời gian xem video và lý do xem video có tương tác như thế nào với mức độ hài lòng và sự kiểm soát bản thân?\n",
    "\n",
    "- Thu nhập và mức độ nghiện của người dùng có tương quan với mức độ hài lòng trong công việc hay học tập không?\n",
    "\n",
    "- Có sự khác biệt giữa mức độ hài lòng và mức độ nghiện của người dùng khi xem video giải trí so với video giáo dục?\n"
   ]
  }
 ],
 "metadata": {
  "kernelspec": {
   "display_name": "Python 3 (ipykernel)",
   "language": "python",
   "name": "python3"
  },
  "language_info": {
   "codemirror_mode": {
    "name": "ipython",
    "version": 3
   },
   "file_extension": ".py",
   "mimetype": "text/x-python",
   "name": "python",
   "nbconvert_exporter": "python",
   "pygments_lexer": "ipython3",
   "version": "3.12.4"
  }
 },
 "nbformat": 4,
 "nbformat_minor": 4
}
